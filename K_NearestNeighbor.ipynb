{
  "nbformat": 4,
  "nbformat_minor": 0,
  "metadata": {
    "colab": {
      "name": "K-NearestNeighbor.ipynb",
      "provenance": [],
      "collapsed_sections": [],
      "authorship_tag": "ABX9TyO5H665Wkez1tjg7tnME7zl",
      "include_colab_link": true
    },
    "kernelspec": {
      "display_name": "Python 3",
      "name": "python3"
    },
    "language_info": {
      "name": "python"
    }
  },
  "cells": [
    {
      "cell_type": "markdown",
      "metadata": {
        "id": "view-in-github",
        "colab_type": "text"
      },
      "source": [
        "<a href=\"https://colab.research.google.com/github/nadeensayed/KNN_ImageClassification/blob/main/K_NearestNeighbor.ipynb\" target=\"_parent\"><img src=\"https://colab.research.google.com/assets/colab-badge.svg\" alt=\"Open In Colab\"/></a>"
      ]
    },
    {
      "cell_type": "code",
      "metadata": {
        "id": "7tAlaFe4vVYZ",
        "colab": {
          "base_uri": "https://localhost:8080/"
        },
        "outputId": "40c9f912-9966-4548-94b0-f62288c2d5a5"
      },
      "source": [
        "import zipfile\n",
        "from google.colab import drive\n",
        "\n",
        "drive.mount('/content/drive/')\n"
      ],
      "execution_count": null,
      "outputs": [
        {
          "output_type": "stream",
          "name": "stdout",
          "text": [
            "Mounted at /content/drive/\n"
          ]
        }
      ]
    },
    {
      "cell_type": "code",
      "metadata": {
        "id": "x_LTg_KVWG5o"
      },
      "source": [
        "#DATASET 1\n",
        "\n",
        "!unzip /content/drive/MyDrive/Orange.zip\n",
        "\n",
        "# Import the necessary libraries\n",
        "import numpy as np\n",
        "from PIL import Image\n",
        "from numpy import asarray\n",
        "from os import listdir\n",
        "from matplotlib import image\n",
        "import cv2\n",
        "\n",
        "#TRAINING SET\n",
        "\n",
        "X_train = []\n",
        "Y_train = []\n",
        "# load all images in a G1\n",
        "for filename in listdir('/content/Orange/Training/Orange G1'):\n",
        " path='/content/Orange/Training/Orange G1/'+ filename\n",
        " im = cv2.imread(path)\n",
        " img = cv2.resize(im, (50,50), interpolation = cv2.INTER_AREA)\n",
        " p=np.array(img)\n",
        " X_train.append(p)\n",
        " Y_train.append(0)\n",
        "\n",
        "# load all images in a G2\n",
        "for filename in listdir('/content/Orange/Training/Orange G2'):\n",
        " path='/content/Orange/Training/Orange G2/'+ filename\n",
        " im = cv2.imread(path)\n",
        " img = cv2.resize(im, (50,50), interpolation = cv2.INTER_AREA)\n",
        " p=np.array(img)\n",
        " X_train.append(p)\n",
        " Y_train.append(1)\n",
        "\n",
        "# load all images in rotten\n",
        "for filename in listdir('/content/Orange/Training/Orange Rotten'):\n",
        "#  im = Image.open('/content/Orange/Training/Orange Rotten/'+ filename )\n",
        "#  img= im.resize((32,32))\n",
        "#  numpydata = asarray(img)\n",
        "#  arr=numpydata.flatten()\n",
        "#  l=tuple(arr)\n",
        " path='/content/Orange/Training/Orange Rotten/'+ filename\n",
        " im = cv2.imread(path)\n",
        " img = cv2.resize(im, (50,50), interpolation = cv2.INTER_AREA)\n",
        " p=np.array(img)\n",
        " X_train.append(p)\n",
        " Y_train.append(2)\n",
        "\n",
        "\n",
        "#TESTING SET\n",
        "X_test = []\n",
        "Y_test=[]\n",
        "# load all images in a G1\n",
        "for filename in listdir('/content/Orange/Testing/Orange G1'):\n",
        " path='/content/Orange/Testing/Orange G1/'+ filename\n",
        " im = cv2.imread(path)\n",
        " img = cv2.resize(im, (50,50), interpolation = cv2.INTER_AREA)\n",
        " p=np.array(img)\n",
        " X_test.append(p)\n",
        " Y_test.append(0)\n",
        "\n",
        "# load all images in a G2\n",
        "for filename in listdir('/content/Orange/Testing/Orange G2'):\n",
        " path='/content/Orange/Testing/Orange G2/'+ filename\n",
        " im = cv2.imread(path)\n",
        " img = cv2.resize(im, (50,50), interpolation = cv2.INTER_AREA)\n",
        " p=np.array(img)\n",
        " X_test.append(p)\n",
        " Y_test.append(1)\n",
        "\n",
        "# load all images in rotten\n",
        "for filename in listdir('/content/Orange/Testing/Orange Rotten'):\n",
        " path='/content/Orange/Testing/Orange Rotten/'+ filename\n",
        " im = cv2.imread(path)\n",
        " img = cv2.resize(im, (50,50), interpolation = cv2.INTER_AREA)\n",
        " p=np.array(img)\n",
        " X_test.append(p)\n",
        " Y_test.append(2)\n",
        "\n",
        " #MODEL\n",
        "from sklearn.neighbors import KNeighborsClassifier\n",
        "X_train=np.array(X_train)\n",
        "X_train=X_train.reshape((1545,7500))\n",
        "model = KNeighborsClassifier(n_neighbors=39,p=3,metric='euclidean')\n",
        "# Train the model using the training sets\n",
        "model.fit(X_train,Y_train)\n",
        "\n",
        "X_test=np.array(X_test)\n",
        "X_test=X_test.reshape((964,7500))\n",
        "predicted=model.predict(X_test)\n",
        "from sklearn import metrics\n",
        "print(metrics.accuracy_score(Y_test, predicted))\n"
      ],
      "execution_count": null,
      "outputs": []
    },
    {
      "cell_type": "code",
      "metadata": {
        "id": "FS_UTcXhKtOI",
        "colab": {
          "base_uri": "https://localhost:8080/"
        },
        "outputId": "41ba5ff4-d1f0-472a-b00b-72a8998b8d42"
      },
      "source": [
        "#DATASET 2\n",
        "\n",
        "!unzip /content/drive/MyDrive/Dataset2.zip\n",
        "\n",
        "# Import the necessary libraries\n",
        "import numpy as np\n",
        "from PIL import Image\n",
        "from numpy import asarray\n",
        "from os import listdir\n",
        "from matplotlib import image\n",
        "import cv2\n",
        "from sklearn.model_selection import train_test_split\n",
        "from sklearn.neighbors import KNeighborsClassifier\n",
        "from sklearn import metrics\n",
        "\n",
        "\n",
        "X = []\n",
        "Y = []\n",
        "# load all images in a G1\n",
        "for filename in listdir('/content/Dataset/Oranges Dataset 2/'):\n",
        " path='/content/Dataset/Oranges Dataset 2/'+ filename\n",
        " im = cv2.imread(path)\n",
        " img = cv2.resize(im, (100,100), interpolation = cv2.INTER_AREA)\n",
        " p=np.array(img)\n",
        " X.append(p)\n",
        " Y.append(0)\n",
        "\n",
        "# load all images in a G2\n",
        "for filename in listdir('/content/Dataset/Rotten Orange  Dataset/'):\n",
        " path='/content/Dataset/Rotten Orange  Dataset/'+ filename\n",
        " im = cv2.imread(path)\n",
        " img = cv2.resize(im, (100,100), interpolation = cv2.INTER_AREA)\n",
        " p=np.array(img)\n",
        " X.append(p)\n",
        " Y.append(1)\n",
        "\n",
        "X=np.array(X)\n",
        "X=X.reshape((1988,30000))\n",
        "\n",
        "X_Train, X_Test, Y_Train, Y_Test = train_test_split(X, Y, test_size=0.33)\n",
        "model = KNeighborsClassifier(n_neighbors=45,p=2,metric='euclidean')\n",
        "\n",
        "# Train the model using the training sets\n",
        "model.fit(X_Train,Y_Train)\n",
        "predicted=model.predict(X_Test)\n",
        "print(metrics.accuracy_score(Y_Test, predicted))"
      ],
      "execution_count": null,
      "outputs": [
        {
          "output_type": "stream",
          "name": "stdout",
          "text": [
            "1.0\n"
          ]
        }
      ]
    }
  ]
}